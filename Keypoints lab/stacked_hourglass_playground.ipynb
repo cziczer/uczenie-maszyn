{
 "cells": [
  {
   "cell_type": "code",
   "execution_count": 1,
   "id": "5e8e18fb",
   "metadata": {},
   "outputs": [],
   "source": [
    "import numpy as np\n",
    "import tensorflow as tf\n",
    "\n",
    "from tensorflow.keras import layers as tf_layers\n",
    "\n",
    "%matplotlib inline\n",
    "import matplotlib as mpl\n",
    "from matplotlib import pyplot as plt\n",
    "\n",
    "from stacked_hourglass import hourglass_block, create_stacked_hourglass_model"
   ]
  },
  {
   "cell_type": "code",
   "execution_count": 2,
   "id": "fe4c4197",
   "metadata": {},
   "outputs": [],
   "source": [
    "WIDTH, HEIGHT = 128, 96\n",
    "N_KEYPOINTS = 9"
   ]
  },
  {
   "cell_type": "markdown",
   "id": "a60ff1f4",
   "metadata": {},
   "source": [
    "# Basic FCN-like model"
   ]
  },
  {
   "cell_type": "code",
   "execution_count": 3,
   "id": "e3c573af",
   "metadata": {},
   "outputs": [],
   "source": [
    "N_START = 32\n",
    "N_FILTERS_BLOCK1 = 64\n",
    "N_FILTERS_BLOCK2 = 128"
   ]
  },
  {
   "cell_type": "code",
   "execution_count": 4,
   "id": "630b728f",
   "metadata": {},
   "outputs": [
    {
     "name": "stdout",
     "output_type": "stream",
     "text": [
      "Model: \"model\"\n",
      "_________________________________________________________________\n",
      "Layer (type)                 Output Shape              Param #   \n",
      "=================================================================\n",
      "input_1 (InputLayer)         [(None, 128, 96, 3)]      0         \n",
      "_________________________________________________________________\n",
      "conv2d (Conv2D)              (None, 128, 96, 64)       1792      \n",
      "_________________________________________________________________\n",
      "conv2d_1 (Conv2D)            (None, 128, 96, 64)       36928     \n",
      "_________________________________________________________________\n",
      "max_pooling2d (MaxPooling2D) (None, 64, 48, 64)        0         \n",
      "_________________________________________________________________\n",
      "conv2d_2 (Conv2D)            (None, 64, 48, 128)       73856     \n",
      "_________________________________________________________________\n",
      "conv2d_3 (Conv2D)            (None, 64, 48, 128)       147584    \n",
      "_________________________________________________________________\n",
      "max_pooling2d_1 (MaxPooling2 (None, 32, 24, 128)       0         \n",
      "_________________________________________________________________\n",
      "up_sampling2d (UpSampling2D) (None, 64, 48, 128)       0         \n",
      "_________________________________________________________________\n",
      "conv2d_4 (Conv2D)            (None, 64, 48, 64)        73792     \n",
      "_________________________________________________________________\n",
      "conv2d_5 (Conv2D)            (None, 64, 48, 64)        36928     \n",
      "_________________________________________________________________\n",
      "up_sampling2d_1 (UpSampling2 (None, 128, 96, 64)       0         \n",
      "_________________________________________________________________\n",
      "conv2d_6 (Conv2D)            (None, 128, 96, 32)       18464     \n",
      "_________________________________________________________________\n",
      "conv2d_7 (Conv2D)            (None, 128, 96, 32)       9248      \n",
      "_________________________________________________________________\n",
      "conv2d_8 (Conv2D)            (None, 128, 96, 9)        297       \n",
      "=================================================================\n",
      "Total params: 398,889\n",
      "Trainable params: 398,889\n",
      "Non-trainable params: 0\n",
      "_________________________________________________________________\n"
     ]
    }
   ],
   "source": [
    "img_input = tf.keras.Input(shape=(WIDTH, HEIGHT, 3))\n",
    "\n",
    "x = img_input\n",
    "\n",
    "# Encoder block 1\n",
    "x = tf_layers.Conv2D(N_FILTERS_BLOCK1, (3, 3), padding='same', activation='relu')(x)\n",
    "x = tf_layers.Conv2D(N_FILTERS_BLOCK1, (3, 3), padding='same', activation='relu')(x)\n",
    "x = tf_layers.MaxPooling2D((2, 2), strides=(2, 2))(x)\n",
    "\n",
    "# Encoder block 2\n",
    "x = tf_layers.Conv2D(N_FILTERS_BLOCK2, (3, 3), padding='same', activation='relu')(x)\n",
    "x = tf_layers.Conv2D(N_FILTERS_BLOCK2, (3, 3), padding='same', activation='relu')(x)\n",
    "x = tf_layers.MaxPooling2D((2, 2), strides=(2, 2))(x)\n",
    "\n",
    "# Decoder block 1\n",
    "x = tf_layers.UpSampling2D((2 ,2))(x)\n",
    "x = tf_layers.Conv2D(N_FILTERS_BLOCK1, (3, 3), padding='same', activation='relu')(x)\n",
    "x = tf_layers.Conv2D(N_FILTERS_BLOCK1, (3, 3), padding='same', activation='relu')(x)\n",
    "\n",
    "# Decoder block 1\n",
    "x = tf_layers.UpSampling2D((2 ,2))(x)\n",
    "x = tf_layers.Conv2D(N_START, (3, 3), padding='same', activation='relu')(x)\n",
    "x = tf_layers.Conv2D(N_START, (3, 3), padding='same', activation='relu')(x)\n",
    "\n",
    "# output\n",
    "output = tf_layers.Conv2D(N_KEYPOINTS, (1, 1), activation='softmax')(x)\n",
    "\n",
    "# model\n",
    "basic_fcn_model = tf.keras.Model(img_input, output)\n",
    "basic_fcn_model.summary()"
   ]
  },
  {
   "cell_type": "markdown",
   "id": "e321d687",
   "metadata": {},
   "source": [
    "# Single hourglass"
   ]
  },
  {
   "cell_type": "code",
   "execution_count": 5,
   "id": "551cdd40",
   "metadata": {},
   "outputs": [],
   "source": [
    "# \"simple\" variant\n",
    "# def residual_module(x, n_filters):\n",
    "#     return tf_layers.Conv2D(n_filters, (3, 3), padding='same', activation='relu')(x)\n",
    "\n",
    "# def residual_module(x, n_filters):\n",
    "#     skip = tf_layers.Conv2D(n_filters, (1, 1), activation='relu')(x)\n",
    "    \n",
    "#     x = tf_layers.Conv2D(n_filters // 2, (1, 1), activation='relu')(x)\n",
    "#     x = tf_layers.Conv2D(n_filters // 2, (3, 3), padding='same', activation='relu')(x)\n",
    "#     x = tf_layers.Conv2D(n_filters, (1, 1), activation='relu')(x)\n",
    "#     x = tf_layers.Add()([skip, x])\n",
    "    \n",
    "#     return x\n",
    "\n",
    "# def hourglass_module(x, n_filters, max_filters=256):\n",
    "#     if n_filters >= max_filters: # bottleneck\n",
    "#         x = residual_module(x, n_filters)\n",
    "#         x = residual_module(x, n_filters // 2)\n",
    "#     else:                        # left and right half blocks\n",
    "#         x = residual_module(x, n_filters)\n",
    "#         skip = x\n",
    "#         x = tf_layers.MaxPooling2D((2, 2), strides=(2, 2))(x)\n",
    "        \n",
    "#         x = hourglass_module(x, n_filters * 2, max_filters)\n",
    "        \n",
    "#         x = tf_layers.UpSampling2D((2, 2))(x)\n",
    "#         x = tf_layers.Add()([skip, x])\n",
    "#         x = residual_module(x, n_filters // 2)\n",
    "        \n",
    "#     return x"
   ]
  },
  {
   "cell_type": "code",
   "execution_count": 6,
   "id": "9fac1925",
   "metadata": {},
   "outputs": [
    {
     "name": "stdout",
     "output_type": "stream",
     "text": [
      "Model: \"model_1\"\n",
      "__________________________________________________________________________________________________\n",
      "Layer (type)                    Output Shape         Param #     Connected to                     \n",
      "==================================================================================================\n",
      "input_2 (InputLayer)            [(None, 128, 96, 3)] 0                                            \n",
      "__________________________________________________________________________________________________\n",
      "conv2d_9 (Conv2D)               (None, 128, 96, 32)  896         input_2[0][0]                    \n",
      "__________________________________________________________________________________________________\n",
      "conv2d_10 (Conv2D)              (None, 128, 96, 64)  18496       conv2d_9[0][0]                   \n",
      "__________________________________________________________________________________________________\n",
      "max_pooling2d_2 (MaxPooling2D)  (None, 64, 48, 64)   0           conv2d_10[0][0]                  \n",
      "__________________________________________________________________________________________________\n",
      "conv2d_11 (Conv2D)              (None, 64, 48, 128)  73856       max_pooling2d_2[0][0]            \n",
      "__________________________________________________________________________________________________\n",
      "max_pooling2d_3 (MaxPooling2D)  (None, 32, 24, 128)  0           conv2d_11[0][0]                  \n",
      "__________________________________________________________________________________________________\n",
      "conv2d_12 (Conv2D)              (None, 32, 24, 256)  295168      max_pooling2d_3[0][0]            \n",
      "__________________________________________________________________________________________________\n",
      "conv2d_13 (Conv2D)              (None, 32, 24, 128)  295040      conv2d_12[0][0]                  \n",
      "__________________________________________________________________________________________________\n",
      "up_sampling2d_2 (UpSampling2D)  (None, 64, 48, 128)  0           conv2d_13[0][0]                  \n",
      "__________________________________________________________________________________________________\n",
      "add (Add)                       (None, 64, 48, 128)  0           conv2d_11[0][0]                  \n",
      "                                                                 up_sampling2d_2[0][0]            \n",
      "__________________________________________________________________________________________________\n",
      "conv2d_14 (Conv2D)              (None, 64, 48, 64)   73792       add[0][0]                        \n",
      "__________________________________________________________________________________________________\n",
      "up_sampling2d_3 (UpSampling2D)  (None, 128, 96, 64)  0           conv2d_14[0][0]                  \n",
      "__________________________________________________________________________________________________\n",
      "add_1 (Add)                     (None, 128, 96, 64)  0           conv2d_10[0][0]                  \n",
      "                                                                 up_sampling2d_3[0][0]            \n",
      "__________________________________________________________________________________________________\n",
      "conv2d_15 (Conv2D)              (None, 128, 96, 32)  18464       add_1[0][0]                      \n",
      "__________________________________________________________________________________________________\n",
      "conv2d_16 (Conv2D)              (None, 128, 96, 9)   297         conv2d_15[0][0]                  \n",
      "==================================================================================================\n",
      "Total params: 776,009\n",
      "Trainable params: 776,009\n",
      "Non-trainable params: 0\n",
      "__________________________________________________________________________________________________\n"
     ]
    }
   ],
   "source": [
    "img_input = tf.keras.Input(shape=(WIDTH, HEIGHT, 3))\n",
    "x = tf_layers.Conv2D(32, (3, 3), padding='same', activation='relu')(img_input)\n",
    "x = hourglass_block(x, 64, 256, mode='simple')\n",
    "output = tf_layers.Conv2D(N_KEYPOINTS, (1, 1), activation='softmax')(x)\n",
    "\n",
    "single_hourglass_model = tf.keras.Model(img_input, output)\n",
    "single_hourglass_model.summary()"
   ]
  },
  {
   "cell_type": "markdown",
   "id": "01c6b863",
   "metadata": {},
   "source": [
    "# Stacked hourglass"
   ]
  },
  {
   "cell_type": "code",
   "execution_count": 7,
   "id": "ac26f354",
   "metadata": {},
   "outputs": [],
   "source": [
    "N_HOURGLASSES = 4\n",
    "START_FILTERS = 32\n",
    "MAX_FILTERS = 128"
   ]
  },
  {
   "cell_type": "code",
   "execution_count": 8,
   "id": "846e95b8",
   "metadata": {},
   "outputs": [],
   "source": [
    "# def create_stacked_hourglass_model(img_input, n_keypoints, n_hourglasses, start_filters, max_filters):\n",
    "#     x = tf_layers.Conv2D(start_filters, (3, 3), padding='same', activation='relu')(img_input)\n",
    "    \n",
    "#     skip = None\n",
    "#     output_list = []\n",
    "#     for i in range(n_hourglasses):\n",
    "#         x = hourglass_module(x, start_filters * 2, max_filters=max_filters)\n",
    "\n",
    "#         output = tf_layers.Conv2D(n_keypoints, (1, 1), activation='softmax', name=f'output_{i}')(x)\n",
    "#         output_list.append(output)\n",
    "#         mapped_output = tf_layers.Conv2D(start_filters, (1, 1), activation='softmax')(output)\n",
    "\n",
    "#         if skip is not None:\n",
    "#             x = tf_layers.Add()([skip, mapped_output, x])\n",
    "#         else:\n",
    "#             x = tf_layers.Add()([mapped_output, x])\n",
    "#         skip = x\n",
    "    \n",
    "#     stacked_hourglass_model = tf.keras.Model(img_input, output_list)\n",
    "#     return stacked_hourglass_model"
   ]
  },
  {
   "cell_type": "code",
   "execution_count": 9,
   "id": "e09733fa",
   "metadata": {},
   "outputs": [
    {
     "name": "stdout",
     "output_type": "stream",
     "text": [
      "Model: \"model_2\"\n",
      "__________________________________________________________________________________________________\n",
      "Layer (type)                    Output Shape         Param #     Connected to                     \n",
      "==================================================================================================\n",
      "input_3 (InputLayer)            [(None, 128, 96, 3)] 0                                            \n",
      "__________________________________________________________________________________________________\n",
      "conv2d_17 (Conv2D)              (None, 128, 96, 32)  896         input_3[0][0]                    \n",
      "__________________________________________________________________________________________________\n",
      "conv2d_18 (Conv2D)              (None, 128, 96, 64)  18496       conv2d_17[0][0]                  \n",
      "__________________________________________________________________________________________________\n",
      "max_pooling2d_4 (MaxPooling2D)  (None, 64, 48, 64)   0           conv2d_18[0][0]                  \n",
      "__________________________________________________________________________________________________\n",
      "conv2d_19 (Conv2D)              (None, 64, 48, 128)  73856       max_pooling2d_4[0][0]            \n",
      "__________________________________________________________________________________________________\n",
      "conv2d_20 (Conv2D)              (None, 64, 48, 64)   73792       conv2d_19[0][0]                  \n",
      "__________________________________________________________________________________________________\n",
      "up_sampling2d_4 (UpSampling2D)  (None, 128, 96, 64)  0           conv2d_20[0][0]                  \n",
      "__________________________________________________________________________________________________\n",
      "add_2 (Add)                     (None, 128, 96, 64)  0           conv2d_18[0][0]                  \n",
      "                                                                 up_sampling2d_4[0][0]            \n",
      "__________________________________________________________________________________________________\n",
      "conv2d_21 (Conv2D)              (None, 128, 96, 32)  18464       add_2[0][0]                      \n",
      "__________________________________________________________________________________________________\n",
      "output_0 (Conv2D)               (None, 128, 96, 9)   297         conv2d_21[0][0]                  \n",
      "__________________________________________________________________________________________________\n",
      "conv2d_22 (Conv2D)              (None, 128, 96, 32)  320         output_0[0][0]                   \n",
      "__________________________________________________________________________________________________\n",
      "add_3 (Add)                     (None, 128, 96, 32)  0           conv2d_17[0][0]                  \n",
      "                                                                 conv2d_22[0][0]                  \n",
      "                                                                 conv2d_21[0][0]                  \n",
      "__________________________________________________________________________________________________\n",
      "conv2d_23 (Conv2D)              (None, 128, 96, 64)  18496       add_3[0][0]                      \n",
      "__________________________________________________________________________________________________\n",
      "max_pooling2d_5 (MaxPooling2D)  (None, 64, 48, 64)   0           conv2d_23[0][0]                  \n",
      "__________________________________________________________________________________________________\n",
      "conv2d_24 (Conv2D)              (None, 64, 48, 128)  73856       max_pooling2d_5[0][0]            \n",
      "__________________________________________________________________________________________________\n",
      "conv2d_25 (Conv2D)              (None, 64, 48, 64)   73792       conv2d_24[0][0]                  \n",
      "__________________________________________________________________________________________________\n",
      "up_sampling2d_5 (UpSampling2D)  (None, 128, 96, 64)  0           conv2d_25[0][0]                  \n",
      "__________________________________________________________________________________________________\n",
      "add_4 (Add)                     (None, 128, 96, 64)  0           conv2d_23[0][0]                  \n",
      "                                                                 up_sampling2d_5[0][0]            \n",
      "__________________________________________________________________________________________________\n",
      "conv2d_26 (Conv2D)              (None, 128, 96, 32)  18464       add_4[0][0]                      \n",
      "__________________________________________________________________________________________________\n",
      "output_1 (Conv2D)               (None, 128, 96, 9)   297         conv2d_26[0][0]                  \n",
      "__________________________________________________________________________________________________\n",
      "conv2d_27 (Conv2D)              (None, 128, 96, 32)  320         output_1[0][0]                   \n",
      "__________________________________________________________________________________________________\n",
      "add_5 (Add)                     (None, 128, 96, 32)  0           add_3[0][0]                      \n",
      "                                                                 conv2d_27[0][0]                  \n",
      "                                                                 conv2d_26[0][0]                  \n",
      "__________________________________________________________________________________________________\n",
      "conv2d_28 (Conv2D)              (None, 128, 96, 64)  18496       add_5[0][0]                      \n",
      "__________________________________________________________________________________________________\n",
      "max_pooling2d_6 (MaxPooling2D)  (None, 64, 48, 64)   0           conv2d_28[0][0]                  \n",
      "__________________________________________________________________________________________________\n",
      "conv2d_29 (Conv2D)              (None, 64, 48, 128)  73856       max_pooling2d_6[0][0]            \n",
      "__________________________________________________________________________________________________\n",
      "conv2d_30 (Conv2D)              (None, 64, 48, 64)   73792       conv2d_29[0][0]                  \n",
      "__________________________________________________________________________________________________\n",
      "up_sampling2d_6 (UpSampling2D)  (None, 128, 96, 64)  0           conv2d_30[0][0]                  \n",
      "__________________________________________________________________________________________________\n",
      "add_6 (Add)                     (None, 128, 96, 64)  0           conv2d_28[0][0]                  \n",
      "                                                                 up_sampling2d_6[0][0]            \n",
      "__________________________________________________________________________________________________\n",
      "conv2d_31 (Conv2D)              (None, 128, 96, 32)  18464       add_6[0][0]                      \n",
      "__________________________________________________________________________________________________\n",
      "output_2 (Conv2D)               (None, 128, 96, 9)   297         conv2d_31[0][0]                  \n",
      "__________________________________________________________________________________________________\n",
      "conv2d_32 (Conv2D)              (None, 128, 96, 32)  320         output_2[0][0]                   \n",
      "__________________________________________________________________________________________________\n",
      "add_7 (Add)                     (None, 128, 96, 32)  0           add_5[0][0]                      \n",
      "                                                                 conv2d_32[0][0]                  \n",
      "                                                                 conv2d_31[0][0]                  \n",
      "__________________________________________________________________________________________________\n",
      "conv2d_33 (Conv2D)              (None, 128, 96, 64)  18496       add_7[0][0]                      \n",
      "__________________________________________________________________________________________________\n",
      "max_pooling2d_7 (MaxPooling2D)  (None, 64, 48, 64)   0           conv2d_33[0][0]                  \n",
      "__________________________________________________________________________________________________\n",
      "conv2d_34 (Conv2D)              (None, 64, 48, 128)  73856       max_pooling2d_7[0][0]            \n",
      "__________________________________________________________________________________________________\n",
      "conv2d_35 (Conv2D)              (None, 64, 48, 64)   73792       conv2d_34[0][0]                  \n",
      "__________________________________________________________________________________________________\n",
      "up_sampling2d_7 (UpSampling2D)  (None, 128, 96, 64)  0           conv2d_35[0][0]                  \n",
      "__________________________________________________________________________________________________\n",
      "add_8 (Add)                     (None, 128, 96, 64)  0           conv2d_33[0][0]                  \n",
      "                                                                 up_sampling2d_7[0][0]            \n",
      "__________________________________________________________________________________________________\n",
      "conv2d_36 (Conv2D)              (None, 128, 96, 32)  18464       add_8[0][0]                      \n",
      "__________________________________________________________________________________________________\n",
      "output_3 (Conv2D)               (None, 128, 96, 9)   297         conv2d_36[0][0]                  \n",
      "==================================================================================================\n",
      "Total params: 741,476\n",
      "Trainable params: 741,476\n",
      "Non-trainable params: 0\n",
      "__________________________________________________________________________________________________\n"
     ]
    }
   ],
   "source": [
    "img_input = tf.keras.Input(shape=(WIDTH, HEIGHT, 3))\n",
    "stacked_hourglass_model = create_stacked_hourglass_model(img_input, N_KEYPOINTS, N_HOURGLASSES, START_FILTERS, MAX_FILTERS, mode='simple')\n",
    "stacked_hourglass_model.summary()\n",
    "\n",
    "stacked_hourglass_model.compile(optimizer=tf.keras.optimizers.Adam(), loss=tf.keras.losses.mean_squared_error)"
   ]
  },
  {
   "cell_type": "markdown",
   "id": "397fe737",
   "metadata": {},
   "source": [
    "# Sample input & output"
   ]
  },
  {
   "cell_type": "code",
   "execution_count": 10,
   "id": "b8dea3cf",
   "metadata": {},
   "outputs": [
    {
     "name": "stdout",
     "output_type": "stream",
     "text": [
      "Epoch 1/10\n",
      "1/1 [==============================] - 4s 4s/step - loss: 3.1606 - output_0_loss: 0.7901 - output_1_loss: 0.7901 - output_2_loss: 0.7902 - output_3_loss: 0.7902\n",
      "Epoch 2/10\n",
      "1/1 [==============================] - 0s 72ms/step - loss: 3.1605 - output_0_loss: 0.7901 - output_1_loss: 0.7901 - output_2_loss: 0.7901 - output_3_loss: 0.7901\n",
      "Epoch 3/10\n",
      "1/1 [==============================] - 0s 67ms/step - loss: 3.1605 - output_0_loss: 0.7901 - output_1_loss: 0.7901 - output_2_loss: 0.7901 - output_3_loss: 0.7901\n",
      "Epoch 4/10\n",
      "1/1 [==============================] - 0s 68ms/step - loss: 3.1605 - output_0_loss: 0.7901 - output_1_loss: 0.7901 - output_2_loss: 0.7901 - output_3_loss: 0.7901\n",
      "Epoch 5/10\n",
      "1/1 [==============================] - 0s 67ms/step - loss: 3.1605 - output_0_loss: 0.7901 - output_1_loss: 0.7901 - output_2_loss: 0.7901 - output_3_loss: 0.7901\n",
      "Epoch 6/10\n",
      "1/1 [==============================] - 0s 69ms/step - loss: 3.1605 - output_0_loss: 0.7901 - output_1_loss: 0.7901 - output_2_loss: 0.7901 - output_3_loss: 0.7901\n",
      "Epoch 7/10\n",
      "1/1 [==============================] - 0s 65ms/step - loss: 3.1605 - output_0_loss: 0.7901 - output_1_loss: 0.7901 - output_2_loss: 0.7901 - output_3_loss: 0.7901\n",
      "Epoch 8/10\n",
      "1/1 [==============================] - 0s 66ms/step - loss: 3.1605 - output_0_loss: 0.7901 - output_1_loss: 0.7901 - output_2_loss: 0.7901 - output_3_loss: 0.7901\n",
      "Epoch 9/10\n",
      "1/1 [==============================] - 0s 67ms/step - loss: 3.1605 - output_0_loss: 0.7901 - output_1_loss: 0.7901 - output_2_loss: 0.7901 - output_3_loss: 0.7901\n",
      "Epoch 10/10\n",
      "1/1 [==============================] - 0s 66ms/step - loss: 3.1605 - output_0_loss: 0.7901 - output_1_loss: 0.7901 - output_2_loss: 0.7901 - output_3_loss: 0.7901\n"
     ]
    },
    {
     "data": {
      "text/plain": [
       "<keras.callbacks.History at 0x2b733ad5250>"
      ]
     },
     "execution_count": 10,
     "metadata": {},
     "output_type": "execute_result"
    }
   ],
   "source": [
    "sample_inputs = tf.zeros([8, 128, 96, 3])\n",
    "sample_outputs = tf.ones([8, 128, 96, 9])\n",
    "\n",
    "stacked_hourglass_model.fit(sample_inputs, sample_outputs, epochs=10)"
   ]
  },
  {
   "cell_type": "code",
   "execution_count": null,
   "id": "4d0c5ea3",
   "metadata": {},
   "outputs": [],
   "source": []
  }
 ],
 "metadata": {
  "kernelspec": {
   "display_name": "Python 3 (ipykernel)",
   "language": "python",
   "name": "python3"
  },
  "language_info": {
   "codemirror_mode": {
    "name": "ipython",
    "version": 3
   },
   "file_extension": ".py",
   "mimetype": "text/x-python",
   "name": "python",
   "nbconvert_exporter": "python",
   "pygments_lexer": "ipython3",
   "version": "3.9.7"
  }
 },
 "nbformat": 4,
 "nbformat_minor": 5
}
